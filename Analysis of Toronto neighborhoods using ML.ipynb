{
 "cells": [
  {
   "cell_type": "markdown",
   "metadata": {},
   "source": [
    "# Analysis of Toronto neighborhoods using Machine Learning"
   ]
  },
  {
   "cell_type": "markdown",
   "metadata": {},
   "source": [
    "## Introduction"
   ]
  },
  {
   "cell_type": "markdown",
   "metadata": {},
   "source": []
  },
  {
   "cell_type": "markdown",
   "metadata": {},
   "source": [
    "## Table of Contents\n",
    "\n",
    "1.  [Import neccessary libraries](#libraries)\n",
    "2.  [Data collection and cleaning](#data)\n",
    "\n",
    "    2.1.  [Get name, boundaries and coordinates of each neighborhood in the city of Toronto](#neighborhood)\n",
    "    \n",
    "    2.2.  [Get the boundaries of the city of Toronto neighborhoods](#boundaries)\n",
    "    \n",
    "    2.4.  [Get socioeconomic data of each neighborhood](#socioeconomic)\n",
    "    \n",
    "    2.5.  [Get the number of existing vegan/vegetarian restaurants in each neighborhood](#restaurant)\n",
    "    \n",
    "    2.6.  [Get the number of existing farmer's markets in each neighborhood](#market)\n",
    "         \n",
    "3.  [Data Exploration](#explore)   \n",
    "4.  [Machine Learning - Clustering with k-means](#cluster)\n",
    "5.  [Visualize and examine the final clusters](#examine)\n"
   ]
  },
  {
   "cell_type": "markdown",
   "metadata": {},
   "source": [
    "## 1. Import neccessary libraries<a name='libraries'></a>"
   ]
  },
  {
   "cell_type": "markdown",
   "metadata": {},
   "source": [
    "Let's first import all neccesary Python libraries."
   ]
  },
  {
   "cell_type": "code",
   "execution_count": 4,
   "metadata": {},
   "outputs": [
    {
     "name": "stdout",
     "output_type": "stream",
     "text": [
      "Libraries imported.\n"
     ]
    }
   ],
   "source": [
    "# library to handle data in a vectorized manner\n",
    "import numpy as np \n",
    "\n",
    "# library for data analsysis\n",
    "import pandas as pd \n",
    "\n",
    "# library to handle JSON files\n",
    "import json \n",
    "\n",
    "# convert an address into latitude and longitude values\n",
    "#!conda install -c conda-forge geocoder --yes\n",
    "from geopy.geocoders import Nominatim\n",
    "import geocoder\n",
    "\n",
    "# library to work with geospatial data\n",
    "#!conda install -c conda-forge geopandas --yes\n",
    "import geopandas as gdp\n",
    "\n",
    "# library to handle requests\n",
    "#!conda install -c conda-forge requests --yes\n",
    "import requests \n",
    "# tranform JSON file into a pandas dataframe\n",
    "from pandas.io.json import json_normalize \n",
    "\n",
    "# Matplotlib and associated plotting modules\n",
    "#!conda install -c conda-forge matplotlib --yes\n",
    "import matplotlib.cm as cm\n",
    "import matplotlib.colors as colors\n",
    "\n",
    "# import k-means from clustering stage\n",
    "#!conda install -c conda-forge scipy --yes\n",
    "from sklearn.cluster import KMeans\n",
    "\n",
    "# map rendering library\n",
    "#!conda install -c conda-forge folium --yes\n",
    "import folium \n",
    "\n",
    "# library for scraping websites\n",
    "#!conda install -c anaconda beautifulsoup4\n",
    "from bs4 import BeautifulSoup\n",
    "\n",
    "# Library for plotting\n",
    "import matplotlib.pyplot as plt\n",
    "\n",
    "print('Libraries imported.')"
   ]
  },
  {
   "cell_type": "markdown",
   "metadata": {},
   "source": [
    "## 2. Collect and clean data <a name='data'></a> "
   ]
  },
  {
   "cell_type": "markdown",
   "metadata": {},
   "source": [
    "Now, we must collect all necessary data to perform our analysis. "
   ]
  },
  {
   "cell_type": "markdown",
   "metadata": {},
   "source": [
    "### 2.1. Get name, id number and socio economic data for each neighborhood <a name='neighborhood'></a> "
   ]
  },
  {
   "cell_type": "markdown",
   "metadata": {},
   "source": [
    "Let's first read the .cvs file."
   ]
  },
  {
   "cell_type": "code",
   "execution_count": 12,
   "metadata": {},
   "outputs": [
    {
     "data": {
      "text/html": [
       "<div>\n",
       "<style>\n",
       "    .dataframe thead tr:only-child th {\n",
       "        text-align: right;\n",
       "    }\n",
       "\n",
       "    .dataframe thead th {\n",
       "        text-align: left;\n",
       "    }\n",
       "\n",
       "    .dataframe tbody tr th {\n",
       "        vertical-align: top;\n",
       "    }\n",
       "</style>\n",
       "<table border=\"1\" class=\"dataframe\">\n",
       "  <thead>\n",
       "    <tr style=\"text-align: right;\">\n",
       "      <th></th>\n",
       "      <th>_id</th>\n",
       "      <th>Category</th>\n",
       "      <th>Topic</th>\n",
       "      <th>Data Source</th>\n",
       "      <th>Characteristic</th>\n",
       "      <th>City of Toronto</th>\n",
       "      <th>Agincourt North</th>\n",
       "      <th>Agincourt South-Malvern West</th>\n",
       "      <th>Alderwood</th>\n",
       "      <th>Annex</th>\n",
       "      <th>...</th>\n",
       "      <th>Willowdale West</th>\n",
       "      <th>Willowridge-Martingrove-Richview</th>\n",
       "      <th>Woburn</th>\n",
       "      <th>Woodbine Corridor</th>\n",
       "      <th>Woodbine-Lumsden</th>\n",
       "      <th>Wychwood</th>\n",
       "      <th>Yonge-Eglinton</th>\n",
       "      <th>Yonge-St.Clair</th>\n",
       "      <th>York University Heights</th>\n",
       "      <th>Yorkdale-Glen Park</th>\n",
       "    </tr>\n",
       "  </thead>\n",
       "  <tbody>\n",
       "    <tr>\n",
       "      <th>0</th>\n",
       "      <td>1</td>\n",
       "      <td>Neighbourhood Information</td>\n",
       "      <td>Neighbourhood Information</td>\n",
       "      <td>City of Toronto</td>\n",
       "      <td>Neighbourhood Number</td>\n",
       "      <td>NaN</td>\n",
       "      <td>129</td>\n",
       "      <td>128</td>\n",
       "      <td>20</td>\n",
       "      <td>95</td>\n",
       "      <td>...</td>\n",
       "      <td>37</td>\n",
       "      <td>7</td>\n",
       "      <td>137</td>\n",
       "      <td>64</td>\n",
       "      <td>60</td>\n",
       "      <td>94</td>\n",
       "      <td>100</td>\n",
       "      <td>97</td>\n",
       "      <td>27</td>\n",
       "      <td>31</td>\n",
       "    </tr>\n",
       "    <tr>\n",
       "      <th>1</th>\n",
       "      <td>2</td>\n",
       "      <td>Neighbourhood Information</td>\n",
       "      <td>Neighbourhood Information</td>\n",
       "      <td>City of Toronto</td>\n",
       "      <td>TSNS2020 Designation</td>\n",
       "      <td>NaN</td>\n",
       "      <td>No Designation</td>\n",
       "      <td>No Designation</td>\n",
       "      <td>No Designation</td>\n",
       "      <td>No Designation</td>\n",
       "      <td>...</td>\n",
       "      <td>No Designation</td>\n",
       "      <td>No Designation</td>\n",
       "      <td>NIA</td>\n",
       "      <td>No Designation</td>\n",
       "      <td>No Designation</td>\n",
       "      <td>No Designation</td>\n",
       "      <td>No Designation</td>\n",
       "      <td>No Designation</td>\n",
       "      <td>NIA</td>\n",
       "      <td>Emerging Neighbourhood</td>\n",
       "    </tr>\n",
       "    <tr>\n",
       "      <th>2</th>\n",
       "      <td>3</td>\n",
       "      <td>Population</td>\n",
       "      <td>Population and dwellings</td>\n",
       "      <td>Census Profile 98-316-X2016001</td>\n",
       "      <td>Population, 2016</td>\n",
       "      <td>2,731,571</td>\n",
       "      <td>29,113</td>\n",
       "      <td>23,757</td>\n",
       "      <td>12,054</td>\n",
       "      <td>30,526</td>\n",
       "      <td>...</td>\n",
       "      <td>16,936</td>\n",
       "      <td>22,156</td>\n",
       "      <td>53,485</td>\n",
       "      <td>12,541</td>\n",
       "      <td>7,865</td>\n",
       "      <td>14,349</td>\n",
       "      <td>11,817</td>\n",
       "      <td>12,528</td>\n",
       "      <td>27,593</td>\n",
       "      <td>14,804</td>\n",
       "    </tr>\n",
       "    <tr>\n",
       "      <th>3</th>\n",
       "      <td>4</td>\n",
       "      <td>Population</td>\n",
       "      <td>Population and dwellings</td>\n",
       "      <td>Census Profile 98-316-X2016001</td>\n",
       "      <td>Population, 2011</td>\n",
       "      <td>2,615,060</td>\n",
       "      <td>30,279</td>\n",
       "      <td>21,988</td>\n",
       "      <td>11,904</td>\n",
       "      <td>29,177</td>\n",
       "      <td>...</td>\n",
       "      <td>15,004</td>\n",
       "      <td>21,343</td>\n",
       "      <td>53,350</td>\n",
       "      <td>11,703</td>\n",
       "      <td>7,826</td>\n",
       "      <td>13,986</td>\n",
       "      <td>10,578</td>\n",
       "      <td>11,652</td>\n",
       "      <td>27,713</td>\n",
       "      <td>14,687</td>\n",
       "    </tr>\n",
       "    <tr>\n",
       "      <th>4</th>\n",
       "      <td>5</td>\n",
       "      <td>Population</td>\n",
       "      <td>Population and dwellings</td>\n",
       "      <td>Census Profile 98-316-X2016001</td>\n",
       "      <td>Population Change 2011-2016</td>\n",
       "      <td>4.50%</td>\n",
       "      <td>-3.90%</td>\n",
       "      <td>8.00%</td>\n",
       "      <td>1.30%</td>\n",
       "      <td>4.60%</td>\n",
       "      <td>...</td>\n",
       "      <td>12.90%</td>\n",
       "      <td>3.80%</td>\n",
       "      <td>0.30%</td>\n",
       "      <td>7.20%</td>\n",
       "      <td>0.50%</td>\n",
       "      <td>2.60%</td>\n",
       "      <td>11.70%</td>\n",
       "      <td>7.50%</td>\n",
       "      <td>-0.40%</td>\n",
       "      <td>0.80%</td>\n",
       "    </tr>\n",
       "  </tbody>\n",
       "</table>\n",
       "<p>5 rows × 146 columns</p>\n",
       "</div>"
      ],
      "text/plain": [
       "   _id                   Category                      Topic  \\\n",
       "0    1  Neighbourhood Information  Neighbourhood Information   \n",
       "1    2  Neighbourhood Information  Neighbourhood Information   \n",
       "2    3                 Population   Population and dwellings   \n",
       "3    4                 Population   Population and dwellings   \n",
       "4    5                 Population   Population and dwellings   \n",
       "\n",
       "                      Data Source               Characteristic  \\\n",
       "0                 City of Toronto         Neighbourhood Number   \n",
       "1                 City of Toronto         TSNS2020 Designation   \n",
       "2  Census Profile 98-316-X2016001             Population, 2016   \n",
       "3  Census Profile 98-316-X2016001             Population, 2011   \n",
       "4  Census Profile 98-316-X2016001  Population Change 2011-2016   \n",
       "\n",
       "  City of Toronto Agincourt North Agincourt South-Malvern West  \\\n",
       "0             NaN             129                          128   \n",
       "1             NaN  No Designation               No Designation   \n",
       "2       2,731,571          29,113                       23,757   \n",
       "3       2,615,060          30,279                       21,988   \n",
       "4           4.50%          -3.90%                        8.00%   \n",
       "\n",
       "        Alderwood           Annex           ...           Willowdale West  \\\n",
       "0              20              95           ...                        37   \n",
       "1  No Designation  No Designation           ...            No Designation   \n",
       "2          12,054          30,526           ...                    16,936   \n",
       "3          11,904          29,177           ...                    15,004   \n",
       "4           1.30%           4.60%           ...                    12.90%   \n",
       "\n",
       "  Willowridge-Martingrove-Richview  Woburn Woodbine Corridor Woodbine-Lumsden  \\\n",
       "0                                7     137                64               60   \n",
       "1                   No Designation     NIA    No Designation   No Designation   \n",
       "2                           22,156  53,485            12,541            7,865   \n",
       "3                           21,343  53,350            11,703            7,826   \n",
       "4                            3.80%   0.30%             7.20%            0.50%   \n",
       "\n",
       "         Wychwood  Yonge-Eglinton  Yonge-St.Clair York University Heights  \\\n",
       "0              94             100              97                      27   \n",
       "1  No Designation  No Designation  No Designation                     NIA   \n",
       "2          14,349          11,817          12,528                  27,593   \n",
       "3          13,986          10,578          11,652                  27,713   \n",
       "4           2.60%          11.70%           7.50%                  -0.40%   \n",
       "\n",
       "       Yorkdale-Glen Park  \n",
       "0                      31  \n",
       "1  Emerging Neighbourhood  \n",
       "2                  14,804  \n",
       "3                  14,687  \n",
       "4                   0.80%  \n",
       "\n",
       "[5 rows x 146 columns]"
      ]
     },
     "execution_count": 12,
     "metadata": {},
     "output_type": "execute_result"
    }
   ],
   "source": [
    "# Read dataset\n",
    "nghb_profiles = pd.read_csv(\"neighbourhood-profiles-2016-csv.csv\")\n",
    "nghb_profiles.head()"
   ]
  },
  {
   "cell_type": "markdown",
   "metadata": {},
   "source": [
    "We are going to create a new dataframe, and populate it with the data of interest for each of the 140 neighborhoods. "
   ]
  },
  {
   "cell_type": "code",
   "execution_count": 28,
   "metadata": {},
   "outputs": [
    {
     "data": {
      "text/html": [
       "<div>\n",
       "<style>\n",
       "    .dataframe thead tr:only-child th {\n",
       "        text-align: right;\n",
       "    }\n",
       "\n",
       "    .dataframe thead th {\n",
       "        text-align: left;\n",
       "    }\n",
       "\n",
       "    .dataframe tbody tr th {\n",
       "        vertical-align: top;\n",
       "    }\n",
       "</style>\n",
       "<table border=\"1\" class=\"dataframe\">\n",
       "  <thead>\n",
       "    <tr style=\"text-align: right;\">\n",
       "      <th></th>\n",
       "      <th>ID</th>\n",
       "      <th>Neighborhoods</th>\n",
       "      <th>Population density</th>\n",
       "      <th>Population 15 to 54</th>\n",
       "      <th>Average Income</th>\n",
       "    </tr>\n",
       "  </thead>\n",
       "  <tbody>\n",
       "    <tr>\n",
       "      <th>0</th>\n",
       "      <td>129</td>\n",
       "      <td>Agincourt North</td>\n",
       "      <td>3929</td>\n",
       "      <td>NaN</td>\n",
       "      <td>30414</td>\n",
       "    </tr>\n",
       "    <tr>\n",
       "      <th>1</th>\n",
       "      <td>128</td>\n",
       "      <td>Agincourt South-Malvern West</td>\n",
       "      <td>3034</td>\n",
       "      <td>NaN</td>\n",
       "      <td>31825</td>\n",
       "    </tr>\n",
       "    <tr>\n",
       "      <th>2</th>\n",
       "      <td>20</td>\n",
       "      <td>Alderwood</td>\n",
       "      <td>2435</td>\n",
       "      <td>NaN</td>\n",
       "      <td>47709</td>\n",
       "    </tr>\n",
       "    <tr>\n",
       "      <th>3</th>\n",
       "      <td>95</td>\n",
       "      <td>Annex</td>\n",
       "      <td>10863</td>\n",
       "      <td>NaN</td>\n",
       "      <td>112766</td>\n",
       "    </tr>\n",
       "    <tr>\n",
       "      <th>4</th>\n",
       "      <td>42</td>\n",
       "      <td>Banbury-Don Mills</td>\n",
       "      <td>2775</td>\n",
       "      <td>NaN</td>\n",
       "      <td>67757</td>\n",
       "    </tr>\n",
       "  </tbody>\n",
       "</table>\n",
       "</div>"
      ],
      "text/plain": [
       "    ID                 Neighborhoods  Population density Population 15 to 54  \\\n",
       "0  129               Agincourt North                3929                 NaN   \n",
       "1  128  Agincourt South-Malvern West                3034                 NaN   \n",
       "2   20                     Alderwood                2435                 NaN   \n",
       "3   95                         Annex               10863                 NaN   \n",
       "4   42             Banbury-Don Mills                2775                 NaN   \n",
       "\n",
       "   Average Income  \n",
       "0           30414  \n",
       "1           31825  \n",
       "2           47709  \n",
       "3          112766  \n",
       "4           67757  "
      ]
     },
     "execution_count": 28,
     "metadata": {},
     "output_type": "execute_result"
    }
   ],
   "source": [
    "# Create empty dataframe with column names\n",
    "COLUMN_NAMES = [\"ID\", \"Neighborhoods\", \"Population density\", \"Population 15 to 54\", \"Average Income\"]  \n",
    "df = pd.DataFrame(columns=COLUMN_NAMES)\n",
    "\n",
    "# Extracting name of neighborhoods from vector of column names \n",
    "df[\"Neighborhoods\"] = nghb_profiles.columns[6:]\n",
    "\n",
    "# Extracting neighborhood number from first row\n",
    "df[\"ID\"] = np.array(nghb_profiles.iloc[0,6:].values, dtype = 'int')\n",
    "\n",
    "# Extracting population density from row\n",
    "pop_density = nghb_profiles[nghb_profiles['Characteristic'] == \"Population density per square kilometre\"].values[0][6:]\n",
    "df[\"Population density\"] =  np.array([x.replace(',', '') for x in pop_density], dtype=int)\n",
    "\n",
    "# Extracting income from row\n",
    "avg_income = nghb_profiles[nghb_profiles['Characteristic'] == \"Total income: Average amount ($)\"].values[0][6:]\n",
    "df[\"Average Income\"] = np.array([x.replace(',', '') for x in avg_income], dtype=int)\n",
    "\n",
    "# Setting ID as the index\n",
    "\n",
    "df.set_index('ID')\n",
    "\n",
    "df.head()"
   ]
  },
  {
   "cell_type": "markdown",
   "metadata": {},
   "source": [
    "Looking good. For getting the total population aged 15 to 54, we need to add the values of the population aged 15-24 and the population aged 25-54. Since the values are of type \"object\", we will need to remove the commas and change the data type to 'int'."
   ]
  },
  {
   "cell_type": "code",
   "execution_count": 29,
   "metadata": {},
   "outputs": [
    {
     "data": {
      "text/html": [
       "<div>\n",
       "<style>\n",
       "    .dataframe thead tr:only-child th {\n",
       "        text-align: right;\n",
       "    }\n",
       "\n",
       "    .dataframe thead th {\n",
       "        text-align: left;\n",
       "    }\n",
       "\n",
       "    .dataframe tbody tr th {\n",
       "        vertical-align: top;\n",
       "    }\n",
       "</style>\n",
       "<table border=\"1\" class=\"dataframe\">\n",
       "  <thead>\n",
       "    <tr style=\"text-align: right;\">\n",
       "      <th></th>\n",
       "      <th>ID</th>\n",
       "      <th>Neighborhoods</th>\n",
       "      <th>Population density</th>\n",
       "      <th>Population 15 to 54</th>\n",
       "      <th>Average Income</th>\n",
       "    </tr>\n",
       "  </thead>\n",
       "  <tbody>\n",
       "    <tr>\n",
       "      <th>0</th>\n",
       "      <td>129</td>\n",
       "      <td>Agincourt North</td>\n",
       "      <td>3929</td>\n",
       "      <td>15010</td>\n",
       "      <td>30414</td>\n",
       "    </tr>\n",
       "    <tr>\n",
       "      <th>1</th>\n",
       "      <td>128</td>\n",
       "      <td>Agincourt South-Malvern West</td>\n",
       "      <td>3034</td>\n",
       "      <td>13325</td>\n",
       "      <td>31825</td>\n",
       "    </tr>\n",
       "    <tr>\n",
       "      <th>2</th>\n",
       "      <td>20</td>\n",
       "      <td>Alderwood</td>\n",
       "      <td>2435</td>\n",
       "      <td>6455</td>\n",
       "      <td>47709</td>\n",
       "    </tr>\n",
       "    <tr>\n",
       "      <th>3</th>\n",
       "      <td>95</td>\n",
       "      <td>Annex</td>\n",
       "      <td>10863</td>\n",
       "      <td>18790</td>\n",
       "      <td>112766</td>\n",
       "    </tr>\n",
       "    <tr>\n",
       "      <th>4</th>\n",
       "      <td>42</td>\n",
       "      <td>Banbury-Don Mills</td>\n",
       "      <td>2775</td>\n",
       "      <td>13540</td>\n",
       "      <td>67757</td>\n",
       "    </tr>\n",
       "  </tbody>\n",
       "</table>\n",
       "</div>"
      ],
      "text/plain": [
       "    ID                 Neighborhoods  Population density  Population 15 to 54  \\\n",
       "0  129               Agincourt North                3929                15010   \n",
       "1  128  Agincourt South-Malvern West                3034                13325   \n",
       "2   20                     Alderwood                2435                 6455   \n",
       "3   95                         Annex               10863                18790   \n",
       "4   42             Banbury-Don Mills                2775                13540   \n",
       "\n",
       "   Average Income  \n",
       "0           30414  \n",
       "1           31825  \n",
       "2           47709  \n",
       "3          112766  \n",
       "4           67757  "
      ]
     },
     "execution_count": 29,
     "metadata": {},
     "output_type": "execute_result"
    }
   ],
   "source": [
    "# Find row number with the values for the total income for each neighborhood\n",
    "index1 = nghb_profiles.index[nghb_profiles['Characteristic'] == \"Youth (15-24 years)\"].tolist()\n",
    "index2 = nghb_profiles.index[nghb_profiles['Characteristic'] == \"Working Age (25-54 years)\"].tolist()\n",
    "\n",
    "# Removing commas and converting to int values\n",
    "vals15_24 = np.array([x.replace(',', '') for x in nghb_profiles.iloc[index1[0],6:].values], dtype=int)\n",
    "vals25_54 = np.array([x.replace(',', '') for x in nghb_profiles.iloc[index2[0],6:].values], dtype=int)\n",
    "\n",
    "\n",
    "# Extracting population density from row\n",
    "df[\"Population 15 to 54\"] = vals15_24 + vals25_54\n",
    "df.head()"
   ]
  },
  {
   "cell_type": "markdown",
   "metadata": {},
   "source": [
    "Let's check some information on the dataset such as the index, the number of rows and columns, the data type of each column, and the number of null values in each column."
   ]
  },
  {
   "cell_type": "code",
   "execution_count": 30,
   "metadata": {},
   "outputs": [
    {
     "name": "stdout",
     "output_type": "stream",
     "text": [
      "<class 'pandas.core.frame.DataFrame'>\n",
      "RangeIndex: 140 entries, 0 to 139\n",
      "Data columns (total 5 columns):\n",
      "ID                     140 non-null int32\n",
      "Neighborhoods          140 non-null object\n",
      "Population density     140 non-null int32\n",
      "Population 15 to 54    140 non-null int32\n",
      "Average Income         140 non-null int32\n",
      "dtypes: int32(4), object(1)\n",
      "memory usage: 3.4+ KB\n"
     ]
    }
   ],
   "source": [
    "# look at the info of \"df\"\n",
    "df.info()"
   ]
  },
  {
   "cell_type": "markdown",
   "metadata": {},
   "source": [
    "Everything looks correct!"
   ]
  },
  {
   "cell_type": "markdown",
   "metadata": {},
   "source": [
    "### 2.2. Get the boundaries of the city of Toronto neighborhoods<a name='boundaries'></a> "
   ]
  },
  {
   "cell_type": "markdown",
   "metadata": {},
   "source": [
    "Next, we are going to import the shapefile that contains the geographic coordinates of the 140 Toronto neighbourhoods. The neighbourhood boundaries are represented as polygons, defined by latitude and longitude coordinates. "
   ]
  },
  {
   "cell_type": "code",
   "execution_count": null,
   "metadata": {},
   "outputs": [],
   "source": [
    "toronto_geo = r'C:\\Users\\Osas\\Downloads\\Data analysis\\Capstone\\Neighbourhoods.geojson'  # geojson file"
   ]
  },
  {
   "cell_type": "markdown",
   "metadata": {},
   "source": [
    "### 2.5. Get the number of existing vegan/vegetarian restaurants in each neighborhood<a name='restaurants'></a> "
   ]
  },
  {
   "cell_type": "markdown",
   "metadata": {},
   "source": [
    "Now that we have our location candidates, let's use Foursquare API to get info on the vegan/vegetarian restaurants that are within a radius of 500 meters of the center of each neighborhood."
   ]
  },
  {
   "cell_type": "code",
   "execution_count": null,
   "metadata": {},
   "outputs": [],
   "source": [
    "VERSION = '20201206' # Foursquare API version\n",
    "LIMIT = 100 # A default Foursquare API limit value\n",
    "VEG_ID = \"4bf58dd8d48988d1d3941735\" # Foursquare category ID for Vegetarian / Vegan Restaurant\n",
    "\n",
    "# Function that get the top 100 venues that are in each neighborhood within a radius of 500 meters.\n",
    "def getNearbyVegRest(names, latitudes, longitudes, radius=500):\n",
    "    \n",
    "    venues_list = []\n",
    "    \n",
    "    for name, latitude, longitude in zip(names, latitudes, longitudes):\n",
    "        # Create the GET request URL\n",
    "        url = 'https://api.foursquare.com/v2/venues/explore?&client_id={}&client_secret={}&v={}&ll={},&categoryId={}&{}&radius={}&limit={}'.format(\n",
    "        CLIENT_ID, CLIENT_SECRET, VERSION, latitude, longitude, VEG_ID, radius, LIMIT) \n",
    "        \n",
    "        # Send the GET request\n",
    "        results = requests.get(url).json()[\"response\"]['groups'][0]['items']\n",
    "        \n",
    "        # Get relevant information for each nearby venue\n",
    "        venues_list.append([(name,\n",
    "                             lat,\n",
    "                             lng,\n",
    "                             v['venue']['name'], \n",
    "                             v['venue']['location']['lat'], \n",
    "                             v['venue']['location']['lng'],  \n",
    "                             v['venue']['categories'][0]['name']) for v in results])\n",
    "    nearby_venues = pd.DataFrame([item for venue_list in venues_list for item in venue_list])\n",
    "    nearby_venues.columns = ['Neighborhood', \n",
    "                             'Neighborhood Latitude', \n",
    "                             'Neighborhood Longitude', \n",
    "                             'Venue', \n",
    "                             'Venue Latitude', \n",
    "                             'Venue Longitude', \n",
    "                             'Venue Category']\n",
    "        \n",
    "    return(nearby_venues)"
   ]
  },
  {
   "cell_type": "markdown",
   "metadata": {},
   "source": [
    "### 2.6. Get the number of existing farmer's markets in each neighborhood<a name='market'></a> "
   ]
  },
  {
   "cell_type": "code",
   "execution_count": null,
   "metadata": {},
   "outputs": [],
   "source": [
    "FARMER_MARKET = \"4bf58dd8d48988d1fa941735\" # Foursquare category ID for farmer's market\n",
    "\n"
   ]
  },
  {
   "cell_type": "markdown",
   "metadata": {},
   "source": [
    "## 3. Data Exploration <a name='explore'></a> "
   ]
  },
  {
   "cell_type": "markdown",
   "metadata": {},
   "source": [
    "Prior to performing the cluster analysis, we need to make sure that our data is suitable for cluster analysis."
   ]
  },
  {
   "cell_type": "markdown",
   "metadata": {},
   "source": [
    "## 4. Cluster the neighborhoods to find similar neighborhoods<a name='cluster'></a> "
   ]
  },
  {
   "cell_type": "markdown",
   "metadata": {},
   "source": [
    "## 5. Visualize and examine the final clusters<a name='examine'></a> "
   ]
  },
  {
   "cell_type": "code",
   "execution_count": null,
   "metadata": {},
   "outputs": [],
   "source": []
  }
 ],
 "metadata": {
  "kernelspec": {
   "display_name": "Python 3",
   "language": "python",
   "name": "python3"
  },
  "language_info": {
   "codemirror_mode": {
    "name": "ipython",
    "version": 3
   },
   "file_extension": ".py",
   "mimetype": "text/x-python",
   "name": "python",
   "nbconvert_exporter": "python",
   "pygments_lexer": "ipython3",
   "version": "3.5.4"
  }
 },
 "nbformat": 4,
 "nbformat_minor": 4
}
