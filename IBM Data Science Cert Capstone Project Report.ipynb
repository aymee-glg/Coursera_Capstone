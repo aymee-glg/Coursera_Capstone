{
 "cells": [
  {
   "cell_type": "markdown",
   "metadata": {},
   "source": [
    "# IBM Applied Data Science Capstone - Report"
   ]
  },
  {
   "cell_type": "markdown",
   "metadata": {},
   "source": [
    "This notebook will be used for the capstone project for the Data Science Professional Certificate from IBM on Coursera."
   ]
  },
  {
   "cell_type": "markdown",
   "metadata": {},
   "source": [
    "## Table of contents\n",
    "1. [Introduction](#introduction)\n",
    "2. [Data](#data)\n",
    "3. [Methodology](#methodology)\n",
    "5. [Results](#results)\n",
    "6. [Discussion](#discussion)\n",
    "7. [Conclusion](#conclusion)"
   ]
  },
  {
   "cell_type": "markdown",
   "metadata": {},
   "source": [
    "## 1. Introduction <a name='introduction'></a>\n",
    "\n",
    "With the consumption of healthy and ethical food being on the rise around the word, it’s a great time to be opening a vegetarian or vegan restaurant. \n",
    "\n",
    "In this project we will try to find suitable neighborhoods for opening a **vegetarian restaurant** in **Toronto, Canada**. According to Happy Cow, Toronto is among the world's top 10 vegan-friendly cities in the word. Given the abundance of vegetarian/vegan options in the city, choosing a suitable location for opening a new venue becomes very important. \n",
    "\n",
    "We would want to find neighborhoods with:\n",
    "1. Low direct competition and that are not already crowded with vegan/vegetarian restaurants.\n",
    "2. High density of population under the aged of 35. According to a 2018 Dalhousie University study, 2 out of 3 vegans in Canada are either from generation Z or millennials, so this population group will be the target market.\n",
    "3. High expandable income.\n",
    "4. Near to farmer's markets to get fresh, flavorful produce at minimum cost. \n",
    "\n",
    "Specifically, this report can be used by stakeholders interested in opening a vegetarian restaurant in Toronto, Canada.\n"
   ]
  },
  {
   "cell_type": "markdown",
   "metadata": {},
   "source": [
    "## Data <a name='data'></a>"
   ]
  },
  {
   "cell_type": "markdown",
   "metadata": {},
   "source": [
    "Based on the objective of this project, the factors that will influence the selection of suitable neighborhoods are the following:\n",
    "\n",
    "1. number of existing vegetarian/vegan restaurants in each neighborhood, if any\n",
    "2. total population base of each neighborhood \n",
    "3. average age of people living in this neighborhood\n",
    "3. median household income of each neighborhood\n",
    "4. number of existing farmer's market in the neighborhood\n",
    "\n",
    "The following data sources will be used to adquire the above information:\n",
    "\n",
    "* The name of each neighborhood, borough and postal code in Toronto will be scraped from a **Wikipedia page, [List of postal codes of Canada: M](https://en.wikipedia.org/wiki/List_of_postal_codes_of_Canada:_M)**.\n",
    "\n",
    "* The coordinates, such as Latitudes and Longitudes of each neighborhood and Toronto city center, will be obtained by using the **Geocoder Python package**.\n",
    "\n",
    "* The boundaries of the city of Toronto neighborhoods will be obtained using **Toronto Open Data API**.\n",
    "\n",
    "* Demographic and Income data of each neighborhood will be obtained from **Toronto Open Data Neoghborhood Profiles website**.\n",
    "\n",
    "* The number of existing vegan/vegetarian restaurants and farmer's markets, and their location in every neighborhood will be obtained using **Foursquare API**.\n"
   ]
  },
  {
   "cell_type": "markdown",
   "metadata": {},
   "source": [
    "## Methodology <a name='methodology'></a>"
   ]
  },
  {
   "cell_type": "markdown",
   "metadata": {},
   "source": [
    "## Results <a name='results'></a>"
   ]
  },
  {
   "cell_type": "markdown",
   "metadata": {},
   "source": [
    "## Discussion <a name='discussion'></a>"
   ]
  },
  {
   "cell_type": "markdown",
   "metadata": {},
   "source": [
    "## Conclusion <a name='conclusion'></a>"
   ]
  },
  {
   "cell_type": "code",
   "execution_count": null,
   "metadata": {},
   "outputs": [],
   "source": []
  }
 ],
 "metadata": {
  "kernelspec": {
   "display_name": "Python 3",
   "language": "python",
   "name": "python3"
  },
  "language_info": {
   "codemirror_mode": {
    "name": "ipython",
    "version": 3
   },
   "file_extension": ".py",
   "mimetype": "text/x-python",
   "name": "python",
   "nbconvert_exporter": "python",
   "pygments_lexer": "ipython3",
   "version": "3.5.4"
  }
 },
 "nbformat": 4,
 "nbformat_minor": 4
}
